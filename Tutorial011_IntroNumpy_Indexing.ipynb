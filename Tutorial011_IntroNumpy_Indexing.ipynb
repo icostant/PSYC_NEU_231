{
 "cells": [
  {
   "cell_type": "markdown",
   "metadata": {},
   "source": [
    "# Indexing and slicing and iterating in NumPy"
   ]
  },
  {
   "cell_type": "code",
   "execution_count": 1,
   "metadata": {},
   "outputs": [],
   "source": [
    "# import numpy\n",
    "import numpy as np"
   ]
  },
  {
   "cell_type": "code",
   "execution_count": 2,
   "metadata": {},
   "outputs": [
    {
     "name": "stdout",
     "output_type": "stream",
     "text": [
      "[100. 100. 100.]\n",
      "[  0. 100.   4.   6.]\n",
      "[  9.   8.   7.   6.   5.   4. 100. 100. 100.   0.]\n",
      "0.0\n",
      "300.0\n",
      "300.0\n",
      "300.0\n",
      "12.0\n",
      "15.0\n",
      "18.0\n",
      "21.0\n",
      "24.0\n",
      "27.0\n"
     ]
    }
   ],
   "source": [
    "# create a 1d array\n",
    "# x is a vector\n",
    "x = np.linspace(0,9,10)\n",
    "\n",
    "x[1]                     # just the second entry, remember 0 based indexing\n",
    "\n",
    "# specific start and stop points (exclusive) --> TO GIVE YOU A RANGE IN A LIST, NOT INCLUDING STOP POINT\n",
    "x[0:2]                   # the first and second entries in the array, so N>=0 and N<2 (note the < upper bound - not inclusive)\n",
    "\n",
    "# assign the 2nd - 4th element to 100 (index 1,2,3)\n",
    "x[1:4] = 100               \n",
    "print(x[1:4])\n",
    "\n",
    "# start, stop, step interval --> FIRST TO THE 8TH, IN INTERVALS OF 2\n",
    "print(x[0:8:2])\n",
    "\n",
    "# reverse x --> FLIP VECTOR AROUND\n",
    "print(x[::-1])\n",
    "\n",
    "# iterate over all elements in x --> \n",
    "for i in x:\n",
    "    print(i*3)    # then i takes the value of each element in x"
   ]
  },
  {
   "cell_type": "markdown",
   "metadata": {},
   "source": [
    "## multidimentional array indexing, slicing etc"
   ]
  },
  {
   "cell_type": "code",
   "execution_count": 3,
   "metadata": {},
   "outputs": [
    {
     "name": "stdout",
     "output_type": "stream",
     "text": [
      "[[ 2.  5.  7.  9.  3.]\n",
      " [ 8.  2.  7.  3.  2.]\n",
      " [ 3.  7.  6.  9.  3.]\n",
      " [ 8.  2.  5.  8.  7.]\n",
      " [ 8.  2.  7.  4.  8.]\n",
      " [ 1. 10.  1.  7.  7.]\n",
      " [ 2.  9.  2.  5.  8.]\n",
      " [ 2.  9.  2.  1.  7.]\n",
      " [ 0.  1.  7.  6.  7.]\n",
      " [ 1.  9.  5.  8.  5.]]\n",
      "last row:  [1. 9. 5. 8. 5.]\n",
      "last column:  [3. 2. 3. 7. 8. 7. 8. 7. 7. 5.]\n",
      "last entry:  5.0\n",
      "[2. 5. 7. 9. 3.]\n",
      "[8. 2. 7. 3. 2.]\n",
      "[3. 7. 6. 9. 3.]\n",
      "[8. 2. 5. 8. 7.]\n",
      "[8. 2. 7. 4. 8.]\n",
      "[ 1. 10.  1.  7.  7.]\n",
      "[2. 9. 2. 5. 8.]\n",
      "[2. 9. 2. 1. 7.]\n",
      "[0. 1. 7. 6. 7.]\n",
      "[1. 9. 5. 8. 5.]\n",
      "2.0\n",
      "5.0\n",
      "7.0\n",
      "9.0\n",
      "3.0\n",
      "8.0\n",
      "2.0\n",
      "7.0\n",
      "3.0\n",
      "2.0\n",
      "3.0\n",
      "7.0\n",
      "6.0\n",
      "9.0\n",
      "3.0\n",
      "8.0\n",
      "2.0\n",
      "5.0\n",
      "8.0\n",
      "7.0\n",
      "8.0\n",
      "2.0\n",
      "7.0\n",
      "4.0\n",
      "8.0\n",
      "1.0\n",
      "10.0\n",
      "1.0\n",
      "7.0\n",
      "7.0\n",
      "2.0\n",
      "9.0\n",
      "2.0\n",
      "5.0\n",
      "8.0\n",
      "2.0\n",
      "9.0\n",
      "2.0\n",
      "1.0\n",
      "7.0\n",
      "0.0\n",
      "1.0\n",
      "7.0\n",
      "6.0\n",
      "7.0\n",
      "1.0\n",
      "9.0\n",
      "5.0\n",
      "8.0\n",
      "5.0\n"
     ]
    }
   ],
   "source": [
    "x = np.round(np.random.rand(10,5)*10)   # generate a matrix of uniformly distributed random numbers over 0:10\n",
    "print(x)\n",
    "\n",
    "x[0,0]     # first row, first column\n",
    "x[2,3]     # third row, 4th column\n",
    "\n",
    "x[:, 3]    # all entries in the 4th column \n",
    "x[3, :]    # all entries in the 4th row\n",
    "x[0:2, 4]  # first two entries of the 5th column\n",
    "x[6, 2:4]  # 7th row, 3rd and 4th entries. \n",
    "\n",
    "x[6]       # if not all dims specified then missing values are considered complete slices\n",
    "x[6,]      # these three ways of writing all do the same thing...\n",
    "x[6,:]\n",
    "\n",
    "# tricks...\n",
    "print('last row: ', x[-1,:])     # last row\n",
    "print('last column: ', x[:,-1])  # last column\n",
    "print('last entry: ', x[-1,-1])  # last value\n",
    "\n",
    "# iterating goes over the first dimension (rows)\n",
    "for r in x:\n",
    "     print(r)\n",
    "        \n",
    "# can also iterate over all entries in the array using 'flat'\n",
    "# will proceed along 1st row, then to 2nd row, etc. \n",
    "for a in x.flat:\n",
    "    print(a)"
   ]
  },
  {
   "cell_type": "markdown",
   "metadata": {},
   "source": [
    "## pull out subset of rows and columns"
   ]
  },
  {
   "cell_type": "code",
   "execution_count": 4,
   "metadata": {},
   "outputs": [
    {
     "name": "stdout",
     "output_type": "stream",
     "text": [
      "[[0.27073113 0.77424888 0.04771179]\n",
      " [0.0890236  0.80336581 0.57198292]\n",
      " [0.09676175 0.48162213 0.1002742 ]\n",
      " [0.7350674  0.39374777 0.39280106]]\n",
      "\n",
      " [[0.27073113 0.77424888 0.04771179]\n",
      " [0.0890236  0.80336581 0.57198292]]\n",
      "\n",
      " [[0.09676175 0.48162213 0.1002742 ]\n",
      " [0.7350674  0.39374777 0.39280106]]\n",
      "\n",
      " [0.27073113 0.0890236 ]\n",
      "\n",
      " [[0.48162213 0.1002742 ]\n",
      " [0.39374777 0.39280106]]\n"
     ]
    }
   ],
   "source": [
    "# generate a matrix of random numbers over 0-1\n",
    "x = np.random.rand(4,3) \n",
    "print(x)\n",
    "\n",
    "# first two rows - note that you don't have to specify the 2nd dim - and note that \n",
    "# '2' here means rows 0 and 1 (not 0 through 2!)\n",
    "y = x[:2] \n",
    "print('\\n', y)\n",
    "\n",
    "# can also take the last two rows...in the same manner...in this case rows 3 and 4\n",
    "y = x[2:] \n",
    "print('\\n', y)\n",
    "\n",
    "# first two rows, 1st column\n",
    "y = x[:2,0] \n",
    "print('\\n', y)\n",
    "\n",
    "# rows 3 - end, columns 2 - end\n",
    "y = x[2:,1:]\n",
    "print('\\n', y)"
   ]
  },
  {
   "cell_type": "markdown",
   "metadata": {},
   "source": [
    "<div class=\"alert alert-info\">\n",
    "important - slicing an array creates a view of it! if you change the view, you also will change the original data!\n",
    "</div>"
   ]
  },
  {
   "cell_type": "code",
   "execution_count": 6,
   "metadata": {},
   "outputs": [
    {
     "name": "stdout",
     "output_type": "stream",
     "text": [
      "(4, 3)\n",
      "[[100. 100. 100.]\n",
      " [100. 100. 100.]\n",
      " [100. 100. 100.]\n",
      " [100. 100. 100.]]\n"
     ]
    }
   ],
   "source": [
    "z = x[:,]\n",
    "print(z.shape)\n",
    "\n",
    "# change all values in z using [:]\n",
    "z[:]=100     # so if you change data in z it will also change in x\n",
    "\n",
    "print(x)"
   ]
  },
  {
   "cell_type": "markdown",
   "metadata": {},
   "source": [
    "## Fancy indexing...using arrays to index arrays - used all the time in data analysis..."
   ]
  },
  {
   "cell_type": "markdown",
   "metadata": {},
   "source": [
    "<div class=\"alert alert-info\">\n",
    "fancy indexing always makes a COPY of the data (unlike slicing which creates a view)!!!\n",
    "</div>"
   ]
  },
  {
   "cell_type": "code",
   "execution_count": 7,
   "metadata": {},
   "outputs": [
    {
     "name": "stdout",
     "output_type": "stream",
     "text": [
      "[[0.34263493 0.8996998  0.92928796 0.1139767 ]\n",
      " [0.12430713 0.51783362 0.91782959 0.35545542]\n",
      " [0.38206289 0.21288511 0.63352044 0.4562359 ]]\n",
      "\n",
      " x indexed at tuple y:  0.4562358992432919\n"
     ]
    }
   ],
   "source": [
    "# define an array\n",
    "x = np.random.rand(3,4)\n",
    "\n",
    "# index array - can be a tuple\n",
    "y = (2,3)\n",
    "\n",
    "# index\n",
    "print(x)\n",
    "print('\\n x indexed at tuple y: ', x[y])"
   ]
  },
  {
   "cell_type": "code",
   "execution_count": 10,
   "metadata": {},
   "outputs": [
    {
     "name": "stdout",
     "output_type": "stream",
     "text": [
      "[[0.34263493 0.8996998  0.92928796 0.1139767 ]\n",
      " [0.12430713 0.51783362 0.91782959 0.35545542]\n",
      " [0.38206289 0.21288511 0.63352044 0.4562359 ]]\n"
     ]
    },
    {
     "data": {
      "text/plain": [
       "array([[0.8996998 , 0.92928796, 0.34263493],\n",
       "       [0.51783362, 0.91782959, 0.12430713],\n",
       "       [0.21288511, 0.63352044, 0.38206289]])"
      ]
     },
     "execution_count": 10,
     "metadata": {},
     "output_type": "execute_result"
    }
   ],
   "source": [
    "# can use fancy indexing to extract elements in a particular order\n",
    "print(x)\n",
    "\n",
    "# this will extract the 3rd row, then the 2nd row, then the first row\n",
    "x[[2,1,0]]\n",
    "\n",
    "# and this will extract all rows from the 2nd, 3rd and then 1st column. \n",
    "x[:,[1,2,0]]"
   ]
  },
  {
   "cell_type": "code",
   "execution_count": 11,
   "metadata": {},
   "outputs": [
    {
     "name": "stdout",
     "output_type": "stream",
     "text": [
      "[[0.34263493 0.8996998  0.92928796 0.1139767 ]\n",
      " [0.12430713 0.51783362 0.91782959 0.35545542]\n",
      " [0.38206289 0.21288511 0.63352044 0.4562359 ]]\n"
     ]
    },
    {
     "data": {
      "text/plain": [
       "array([0.51783362, 0.63352044])"
      ]
     },
     "execution_count": 11,
     "metadata": {},
     "output_type": "execute_result"
    }
   ],
   "source": [
    "# or can pass in multiple arrays...will return a 1D array \n",
    "# corresponding to each set of tuples (1,1) and (2,2) in this case\n",
    "print(x)\n",
    "x[[1,2],[1,2]]"
   ]
  },
  {
   "cell_type": "markdown",
   "metadata": {},
   "source": [
    "<div class=\"alert alert-info\">\n",
    "As opposed to selecting a set of tuples, you can also select a block of indices from a matrix. \n",
    "</div>"
   ]
  },
  {
   "cell_type": "code",
   "execution_count": 13,
   "metadata": {},
   "outputs": [
    {
     "name": "stdout",
     "output_type": "stream",
     "text": [
      "[[0.34263493 0.8996998  0.92928796 0.1139767 ]\n",
      " [0.12430713 0.51783362 0.91782959 0.35545542]\n",
      " [0.38206289 0.21288511 0.63352044 0.4562359 ]]\n",
      "[[0.91782959 0.35545542]\n",
      " [0.63352044 0.4562359 ]]\n"
     ]
    }
   ],
   "source": [
    "# grab the lower right chunk of data. CREATES A COPY NOT A VIEW OR A REFERENCE\n",
    "print(x)\n",
    "print(x[[1,2]][:,[2,3]])  # 2nd term here extracts all rows from columns, first arg says restrict to last two rows. "
   ]
  }
 ],
 "metadata": {
  "kernelspec": {
   "display_name": "Python 3",
   "language": "python",
   "name": "python3"
  },
  "language_info": {
   "codemirror_mode": {
    "name": "ipython",
    "version": 3
   },
   "file_extension": ".py",
   "mimetype": "text/x-python",
   "name": "python",
   "nbconvert_exporter": "python",
   "pygments_lexer": "ipython3",
   "version": "3.6.5"
  }
 },
 "nbformat": 4,
 "nbformat_minor": 2
}

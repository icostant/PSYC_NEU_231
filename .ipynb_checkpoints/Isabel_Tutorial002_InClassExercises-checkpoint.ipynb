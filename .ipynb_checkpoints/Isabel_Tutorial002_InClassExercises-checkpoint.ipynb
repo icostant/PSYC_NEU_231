{
 "cells": [
  {
   "cell_type": "markdown",
   "metadata": {},
   "source": [
    "# In class exercises for Tutorial00 intro to jupyter and python basics"
   ]
  },
  {
   "cell_type": "markdown",
   "metadata": {},
   "source": [
    "## Exercise 1\n",
    "1. Create a list (my_list) with values from 1 to 100\n",
    "1. Print every 4th value from 20 to 80\n",
    "1. Print the above sequence backwards\n",
    "1. Compute the sum of the above sequence (hint: there is a built in function 'sum')"
   ]
  },
  {
   "cell_type": "code",
   "execution_count": 2,
   "metadata": {},
   "outputs": [
    {
     "name": "stdout",
     "output_type": "stream",
     "text": [
      "[20, 24, 28, 32, 36, 40, 44, 48, 52, 56, 60, 64, 68, 72, 76, 80]\n",
      "[80, 76, 72, 68, 64, 60, 56, 52, 48, 44, 40, 36, 32, 28, 24, 20]\n",
      "800\n"
     ]
    }
   ],
   "source": [
    "# 1. Create a list (my_list) with values from 1 to 100\n",
    "my_list = list(range(101))\n",
    "\n",
    "# 2. Print every 4th value from 20 to 80\n",
    "my_list_edited = my_list[20:81:4]\n",
    "print (my_list_edited)\n",
    "\n",
    "# 3. Print the above sequence backwards\n",
    "print (my_list_edited[::-1])\n",
    "\n",
    "# 4. Compute the sum of the above sequence\n",
    "print(sum(my_list_edited[::-1]))\n",
    "\n"
   ]
  },
  {
   "cell_type": "markdown",
   "metadata": {},
   "source": [
    "## Exercise 2\n",
    "Tuples are often used to pass values into functions. One nice feature is that their values can be passed to multiple variables at once, for example:\n",
    "\n",
    "my_tuple = ('A','B')\n",
    "\n",
    "a,b = my_tuple\n",
    "\n",
    "will set a and b to the ordered elements in my_tuple. \n",
    "\n",
    "What are a few different ways that you can make a new tuple that combine our Dr. Seuss themed tuples from earlier?\n",
    "1. By creating lots of temporary variables (messy)\n",
    "1. By using a for loop (less messy)\n",
    "1. By using a list (best?)\n",
    "\n",
    "We want one continuous tuple of strings, **not a tuple of tuples** as in the bad example below"
   ]
  },
  {
   "cell_type": "code",
   "execution_count": 3,
   "metadata": {},
   "outputs": [
    {
     "name": "stdout",
     "output_type": "stream",
     "text": [
      "((1, 'fish', 2, 'fish'), ('red', 'fish', 'blue', 'fish'))\n"
     ]
    }
   ],
   "source": [
    "a_simple_tuple = (1,'fish',2,'fish')\n",
    "annother_tuple = ('red','fish','blue','fish')\n",
    "bad_tuple = (a_simple_tuple,annother_tuple)\n",
    "print(bad_tuple)"
   ]
  },
  {
   "cell_type": "code",
   "execution_count": 4,
   "metadata": {},
   "outputs": [
    {
     "name": "stdout",
     "output_type": "stream",
     "text": [
      "(1, 'fish', 2, 'fish', 'red', 'fish', 'blue', 'fish')\n"
     ]
    }
   ],
   "source": [
    "#1. Temporary variables\n",
    "a_simple_tuple = (1,'fish',2,'fish')\n",
    "another_tuple = ('red','fish','blue','fish')\n",
    "\n",
    "a = a_simple_tuple[0]\n",
    "b = a_simple_tuple[1]\n",
    "c = a_simple_tuple[2]\n",
    "d = a_simple_tuple[3]\n",
    "\n",
    "e = another_tuple[0]\n",
    "f = another_tuple[1]\n",
    "g = another_tuple[2]\n",
    "h = another_tuple[3]\n",
    "\n",
    "variable_tuple = (a, b, c, d, e, f, g, h)\n",
    "print (variable_tuple)\n"
   ]
  },
  {
   "cell_type": "code",
   "execution_count": 12,
   "metadata": {},
   "outputs": [
    {
     "name": "stdout",
     "output_type": "stream",
     "text": [
      "(1, 'fish', 2, 'fish', 'red', 'fish', 'blue', 'fish')\n"
     ]
    }
   ],
   "source": [
    "#2. Using a for loop\n",
    "\n",
    "loop_tuple = ()\n",
    "\n",
    "for adjective in a_simple_tuple:\n",
    "    loop_tuple = loop_tuple + (adjective,)\n",
    "    \n",
    "for adjective in another_tuple:\n",
    "    loop_tuple = loop_tuple + (adjective,)\n",
    "\n",
    "print (loop_tuple)\n"
   ]
  },
  {
   "cell_type": "code",
   "execution_count": 26,
   "metadata": {},
   "outputs": [
    {
     "name": "stdout",
     "output_type": "stream",
     "text": [
      "[1, 'fish', 2, 'fish', 'red', 'fish', 'blue', 'fish']\n"
     ]
    }
   ],
   "source": [
    "#3. Using a list\n",
    "\n",
    "seuss_list = []\n",
    "seuss_list.extend(a_simple_tuple[0:4])\n",
    "seuss_list.extend(another_tuple[0:4])\n",
    "\n",
    "print(seuss_list)\n"
   ]
  },
  {
   "cell_type": "markdown",
   "metadata": {},
   "source": [
    "## Exercise 3\n",
    "Dictionaries are meant to be called by their keys. The order of a dictionary's keys is **not-predictable** (even though the above example seems to stay in the order we put time in... this is not dependable because a hash is used to link the keys and the items). You can access all values in a dictionary using the values command.\n",
    "1. Create a Tuple of UC Schools in order of enrollment size (this should be challenging as this is not how dictionaries are **typically** used\n",
    " *  To get things started we have a sorted list of school enrollement \n",
    " *  We can loop through each school-size and determine which school it is a match to\n",
    " *  This we can append to a new list (schools_bySize)\n",
    " *  We have started things off below...\n",
    "1. BONUS: have them print together nicely :)"
   ]
  },
  {
   "cell_type": "code",
   "execution_count": 34,
   "metadata": {},
   "outputs": [
    {
     "name": "stdout",
     "output_type": "stream",
     "text": [
      "List of campus enrollments: [30873, 29379, 29310, 28127, 27331, 21574, 19799, 16962, 6815, 0] \n",
      "\n",
      "List of Sorted Tuples\n",
      "[('Los Angeles', 30873),\n",
      " ('Davis', 29379),\n",
      " ('Berkeley', 29310),\n",
      " ('San Diego', 28127),\n",
      " ('Irvine', 27331),\n",
      " ('Santa Barbara', 21574),\n",
      " ('Riverside', 19799),\n",
      " ('Santa Cruz', 16962),\n",
      " ('Merced', 6815),\n",
      " ('San Francisco', 0)]\n",
      "\n",
      "Sorted List of Schools by Enrollment:\n",
      "School\t \t\t\tEnrollment\n",
      "Los Angeles \t\t\t 30873\n",
      "Davis \t\t\t 29379\n",
      "Berkeley \t\t\t 29310\n",
      "San Diego \t\t\t 28127\n",
      "Irvine \t\t\t 27331\n",
      "Santa Barbara \t\t\t 21574\n",
      "Riverside \t\t\t 19799\n",
      "Santa Cruz \t\t\t 16962\n",
      "Merced \t\t\t 6815\n",
      "San Francisco \t\t\t 0\n"
     ]
    }
   ],
   "source": [
    "# Example from class\n",
    "# source: https://www.thoughtco.com/comparison-university-of-california-campuses-786974\n",
    "UC_Enrollment = {'Santa Barbara':21574,'Santa Cruz':16962,'Irvine': 27331,'Los Angeles':30873,\n",
    "                 'Merced':6815,'Riverside':19799,'San Diego':28127,'San Francisco':0,\n",
    "                 'Berkeley':29310,'Davis':29379}\n",
    "\n",
    "# Sorted list of school enrollment from UC Enrollment dictionary\n",
    "enrollment_size = []\n",
    "schools = UC_Enrollment.keys()\n",
    "\n",
    "for school in schools:\n",
    "    num_students = UC_Enrollment[school]\n",
    "    enrollment_size.append (num_students)\n",
    "\n",
    "enrollment_size_sorted = sorted(enrollment_size , reverse=True)\n",
    "print ('List of campus enrollments:' , enrollment_size_sorted, '\\n')\n",
    "\n",
    "\n",
    "# Taking list of sorted enrollments and matching it to dictionary\n",
    "# values. When matched, the tuple of school and enrollment size \n",
    "# is added to the list schools_bySize \n",
    "\n",
    "schools_bySize = []\n",
    "import pprint\n",
    "\n",
    "for school_size in enrollment_size_sorted:\n",
    "    if school_size in UC_Enrollment.values():\n",
    "        school_name = list(schools)[list(UC_Enrollment.values()).index(school_size)]\n",
    "        school_tuple = (school_name, UC_Enrollment[school_name])\n",
    "        schools_bySize.append (school_tuple)\n",
    "    else:\n",
    "        continue\n",
    "\n",
    "print('List of Sorted Tuples') \n",
    "pprint.pprint(schools_bySize)\n",
    "        \n",
    "print ('\\nSorted List of Schools by Enrollment:')\n",
    "print ('School\\t' , '\\t\\t\\tEnrollment')\n",
    "for i in schools_bySize:\n",
    "     print(i[0],  '\\t\\t\\t',i[1])\n",
    "\n",
    "\n",
    "        \n",
    "    \n"
   ]
  },
  {
   "cell_type": "code",
   "execution_count": 7,
   "metadata": {},
   "outputs": [
    {
     "name": "stdout",
     "output_type": "stream",
     "text": [
      "[('Los Angeles', 30873),\n",
      " ('Davis', 29379),\n",
      " ('Berkeley', 29310),\n",
      " ('San Diego', 28127),\n",
      " ('Irvine', 27331),\n",
      " ('Santa Barbara', 21574),\n",
      " ('Riverside', 19799),\n",
      " ('Santa Cruz', 16962),\n",
      " ('Merced', 6815),\n",
      " ('San Francisco', 0)]\n",
      "\n",
      "\n",
      "School:\t Los Angeles \tNumber of students:\t 30873\n",
      "School:\t Davis \tNumber of students:\t 29379\n",
      "School:\t Berkeley \tNumber of students:\t 29310\n",
      "School:\t San Diego \tNumber of students:\t 28127\n",
      "School:\t Irvine \tNumber of students:\t 27331\n",
      "School:\t Santa Barbara \tNumber of students:\t 21574\n",
      "School:\t Riverside \tNumber of students:\t 19799\n",
      "School:\t Santa Cruz \tNumber of students:\t 16962\n",
      "School:\t Merced \tNumber of students:\t 6815\n",
      "School:\t San Francisco \tNumber of students:\t 0\n"
     ]
    }
   ],
   "source": [
    "###### ANOTHER METHOD ######\n",
    "# Using sorted function and operator module to create a list of tuples\n",
    "# and sorting by the second element in each tuple (enrollment size)\n",
    "import operator \n",
    "\n",
    "schools_bySize2 = sorted(UC_Enrollment.items(), key=operator.itemgetter(1), reverse=True)\n",
    "pprint.pprint(schools_bySize2)\n",
    "print ('\\n')\n",
    "\n",
    "# A nicer print output\n",
    "for i in schools_bySize2:\n",
    "     print('School:\\t', i[0], '\\tNumber of students:\\t',i[1])"
   ]
  },
  {
   "cell_type": "code",
   "execution_count": null,
   "metadata": {},
   "outputs": [],
   "source": []
  },
  {
   "cell_type": "markdown",
   "metadata": {},
   "source": [
    "# Exercise 4\n",
    "\n",
    "Write a module (in a .py file) that takes a list of 2 numbers and sorts them from low to high using a if...elif...else statement. \n",
    "\n",
    "Also include another function that will take a longer list of numbers (say ~5) and that uses a 'for' loop to compute the product of all numbers in the array. \n",
    "\n",
    "Bonus - for the first function that sorts the two numbers, do some checking to make sure that the input is exactly two numerical values and return gracefully with a helpful message if not. "
   ]
  },
  {
   "cell_type": "code",
   "execution_count": 8,
   "metadata": {},
   "outputs": [
    {
     "name": "stdout",
     "output_type": "stream",
     "text": [
      "Overwriting sort_numbers_low_high.py\n"
     ]
    }
   ],
   "source": [
    "%%writefile sort_numbers_low_high.py\n",
    "\n",
    "# Defines x and y from given list of 2 values (or the first 2 values of a list). \n",
    "# If x and y are integers, passes values to if statement\n",
    "# If/elif statements sort and return higher value first\n",
    "def sort_numbers_low_high_2 (list):\n",
    "    x = list[0]\n",
    "    y = list[1]\n",
    "    \n",
    "    if type(list[0]) is int and type(list[0]) is int:\n",
    "        if x > y:\n",
    "            print (x, y)\n",
    "        elif x < y:\n",
    "            print (y, x)\n",
    "        elif x == y:\n",
    "            print (x, \"=\", y)\n",
    "    else:\n",
    "        print(\"Sorry, please give me an integer.\")\n",
    "        \n",
    "# Determines if all list values are integers, passes values if yes. Breaks if no\n",
    "# Sort list, return and print from higher value to lower\n",
    "def sort_numbers_low_high_many (list):\n",
    "    for i in list:\n",
    "        if type(i) is int:\n",
    "            continue\n",
    "        else:\n",
    "            print (\"There are non-integer values in your list.\")\n",
    "            break\n",
    "\n",
    "    return(sorted(list, reverse=True))\n",
    "    print(sorted(list, reverse=True))\n",
    "    \n",
    "# For each member of the array up to size n, each array value is interatively\n",
    "# multipled. \n",
    "def multiply_array (list):\n",
    "    result = 1\n",
    "    n = len(list)\n",
    "    for i in range(0,n):\n",
    "        result = result * list[i]\n",
    "    return result\n",
    "    print(result)\n",
    "\n",
    "        \n",
    "    "
   ]
  }
 ],
 "metadata": {
  "kernelspec": {
   "display_name": "Python 3",
   "language": "python",
   "name": "python3"
  },
  "language_info": {
   "codemirror_mode": {
    "name": "ipython",
    "version": 3
   },
   "file_extension": ".py",
   "mimetype": "text/x-python",
   "name": "python",
   "nbconvert_exporter": "python",
   "pygments_lexer": "ipython3",
   "version": "3.6.5"
  }
 },
 "nbformat": 4,
 "nbformat_minor": 2
}
